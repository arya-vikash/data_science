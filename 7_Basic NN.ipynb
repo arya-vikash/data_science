{
 "cells": [
  {
   "cell_type": "code",
   "execution_count": 1,
   "metadata": {},
   "outputs": [],
   "source": [
    "import numpy as np\n",
    "import matplotlib.pyplot as plt\n",
    "from mpl_toolkits.mplot3d import Axes3D"
   ]
  },
  {
   "cell_type": "code",
   "execution_count": 2,
   "metadata": {},
   "outputs": [
    {
     "data": {
      "text/plain": [
       "(1000, 2)"
      ]
     },
     "execution_count": 2,
     "metadata": {},
     "output_type": "execute_result"
    }
   ],
   "source": [
    "## Generating random data with help of numpy\n",
    "observations=1000\n",
    "xs=np.random.uniform(low=-10,high=10,size=(observations,1))\n",
    "zs=np.random.uniform(-10,10,size=(observations,1))\n",
    "inputs=np.column_stack((xs,zs))\n",
    "inputs.shape"
   ]
  },
  {
   "cell_type": "code",
   "execution_count": 3,
   "metadata": {},
   "outputs": [
    {
     "data": {
      "text/plain": [
       "(1000, 1)"
      ]
     },
     "execution_count": 3,
     "metadata": {},
     "output_type": "execute_result"
    }
   ],
   "source": [
    "noise=np.random.uniform(-1,1,(observations,1))\n",
    "noise.shape"
   ]
  },
  {
   "cell_type": "code",
   "execution_count": 4,
   "metadata": {},
   "outputs": [
    {
     "data": {
      "text/plain": [
       "(1000, 1)"
      ]
     },
     "execution_count": 4,
     "metadata": {},
     "output_type": "execute_result"
    }
   ],
   "source": [
    "# y=w1*x1 + w2*x2 + biase + noise    ....as real data will always have some noise in it\n",
    "#biase=5\n",
    "\n",
    "targets=2*xs-3*zs+5+noise\n",
    "targets.shape"
   ]
  },
  {
   "cell_type": "code",
   "execution_count": 5,
   "metadata": {},
   "outputs": [
    {
     "data": {
      "text/plain": [
       "(array([[-0.05573794],\n",
       "        [ 0.02166991]]), array([0.06959957]))"
      ]
     },
     "execution_count": 5,
     "metadata": {},
     "output_type": "execute_result"
    }
   ],
   "source": [
    "## initializing weights and biases\n",
    "init_range=0.1\n",
    "weights=np.random.uniform(-init_range,init_range,(2,1))\n",
    "biase=np.random.uniform(-init_range,init_range,1)\n",
    "weights,biase"
   ]
  },
  {
   "cell_type": "code",
   "execution_count": 6,
   "metadata": {},
   "outputs": [
    {
     "name": "stdout",
     "output_type": "stream",
     "text": [
      "223.237\n",
      "94.418\n",
      "43.951\n",
      "23.514\n",
      "14.743\n",
      "10.612\n",
      "8.402\n",
      "7.039\n",
      "6.087\n",
      "5.358\n",
      "4.765\n",
      "4.265\n",
      "3.835\n",
      "3.458\n",
      "3.126\n",
      "2.83\n",
      "2.567\n",
      "2.331\n",
      "2.119\n",
      "1.928\n",
      "1.756\n",
      "1.602\n",
      "1.462\n",
      "1.336\n",
      "1.223\n",
      "1.12\n",
      "1.028\n",
      "0.944\n",
      "0.869\n",
      "0.801\n",
      "0.739\n",
      "0.683\n",
      "0.633\n",
      "0.588\n",
      "0.547\n",
      "0.51\n",
      "0.476\n",
      "0.446\n",
      "0.419\n",
      "0.394\n",
      "0.372\n",
      "0.352\n",
      "0.334\n",
      "0.317\n",
      "0.302\n",
      "0.289\n",
      "0.277\n",
      "0.266\n",
      "0.256\n",
      "0.247\n",
      "0.239\n",
      "0.232\n",
      "0.225\n",
      "0.219\n",
      "0.214\n",
      "0.209\n",
      "0.205\n",
      "0.201\n",
      "0.197\n",
      "0.194\n",
      "0.191\n",
      "0.188\n",
      "0.186\n",
      "0.184\n",
      "0.182\n",
      "0.18\n",
      "0.179\n",
      "0.177\n",
      "0.176\n",
      "0.175\n",
      "0.174\n",
      "0.173\n",
      "0.172\n",
      "0.171\n",
      "0.17\n",
      "0.17\n",
      "0.169\n",
      "0.169\n",
      "0.168\n",
      "0.168\n",
      "0.167\n",
      "0.167\n",
      "0.167\n",
      "0.166\n",
      "0.166\n",
      "0.166\n",
      "0.166\n",
      "0.166\n",
      "0.165\n",
      "0.165\n",
      "0.165\n",
      "0.165\n",
      "0.165\n",
      "0.165\n",
      "0.165\n",
      "0.165\n",
      "0.165\n",
      "0.164\n",
      "0.164\n",
      "0.164\n",
      "0.164\n",
      "0.164\n",
      "0.164\n",
      "0.164\n",
      "0.164\n",
      "0.164\n",
      "0.164\n",
      "0.164\n",
      "0.164\n",
      "0.164\n",
      "0.164\n",
      "0.164\n",
      "0.164\n",
      "0.164\n",
      "0.164\n",
      "0.164\n",
      "0.164\n",
      "0.164\n",
      "0.164\n",
      "0.164\n",
      "0.164\n",
      "0.164\n",
      "0.164\n",
      "0.164\n",
      "0.164\n",
      "0.164\n",
      "0.164\n",
      "0.164\n",
      "0.164\n",
      "0.164\n",
      "0.164\n",
      "0.164\n",
      "0.164\n",
      "0.164\n",
      "0.164\n",
      "0.164\n",
      "0.164\n",
      "0.164\n",
      "0.164\n",
      "0.164\n",
      "0.164\n",
      "0.164\n",
      "0.164\n",
      "0.164\n",
      "0.164\n",
      "0.164\n",
      "0.164\n",
      "0.164\n",
      "0.164\n",
      "0.164\n",
      "0.164\n",
      "0.164\n",
      "0.164\n",
      "0.164\n",
      "0.164\n",
      "0.164\n",
      "0.164\n",
      "0.164\n",
      "0.164\n",
      "0.164\n",
      "0.164\n",
      "0.164\n",
      "0.164\n",
      "0.164\n",
      "0.164\n",
      "0.164\n",
      "0.164\n",
      "0.164\n",
      "0.164\n",
      "0.164\n",
      "0.164\n",
      "0.164\n",
      "0.164\n",
      "0.164\n",
      "0.164\n",
      "0.164\n",
      "0.164\n",
      "0.164\n",
      "0.164\n",
      "0.164\n",
      "0.164\n",
      "0.164\n",
      "0.164\n",
      "0.164\n",
      "0.164\n",
      "0.164\n",
      "0.164\n",
      "0.164\n",
      "0.164\n",
      "0.164\n",
      "0.164\n",
      "0.164\n",
      "0.164\n",
      "0.164\n",
      "0.164\n",
      "0.164\n",
      "0.164\n",
      "0.164\n",
      "0.164\n",
      "0.164\n"
     ]
    }
   ],
   "source": [
    "#create loop to update the weights and calculate loss (cot func) in each iteration\n",
    "loss_fn=[]\n",
    "learning_rate=0.05\n",
    "for i in range(200):\n",
    "    outputs=np.dot(inputs,weights) + biase\n",
    "    deltas=outputs-targets\n",
    "    loss=np.sum(deltas ** 2)/2/observations\n",
    "    print(loss.round(3))\n",
    "    loss_fn.append(loss)\n",
    "    deltas_scaled=deltas/observations\n",
    "    weights=weights-learning_rate*np.dot(inputs.T,deltas_scaled)\n",
    "    biase=biase-learning_rate*np.sum(deltas_scaled)"
   ]
  },
  {
   "cell_type": "code",
   "execution_count": 7,
   "metadata": {},
   "outputs": [
    {
     "data": {
      "text/plain": [
       "[<matplotlib.lines.Line2D at 0x225800076c8>]"
      ]
     },
     "execution_count": 7,
     "metadata": {},
     "output_type": "execute_result"
    },
    {
     "data": {
      "image/png": "[encoded data removed]",
      "text/plain": [
       "<Figure size 432x288 with 1 Axes>"
      ]
     },
     "metadata": {
      "needs_background": "light"
     },
     "output_type": "display_data"
    }
   ],
   "source": [
    "plt.plot(np.arange(200),loss_fn)"
   ]
  },
  {
   "cell_type": "code",
   "execution_count": 8,
   "metadata": {},
   "outputs": [
    {
     "name": "stdout",
     "output_type": "stream",
     "text": [
      "wights \n",
      " [2.0064457] [-3.00049505] \n",
      " Biase \n",
      " 4.979080018119026\n"
     ]
    }
   ],
   "source": [
    "print('wights','\\n',*weights,'\\n','Biase','\\n',*biase)"
   ]
  },
  {
   "cell_type": "code",
   "execution_count": 9,
   "metadata": {},
   "outputs": [
    {
     "data": {
      "text/plain": [
       "[<matplotlib.lines.Line2D at 0x225fcc272c8>]"
      ]
     },
     "execution_count": 9,
     "metadata": {},
     "output_type": "execute_result"
    },
    {
     "data": {
      "image/png": "[encoded data removed]",
      "text/plain": [
       "<Figure size 432x288 with 1 Axes>"
      ]
     },
     "metadata": {
      "needs_background": "light"
     },
     "output_type": "display_data"
    }
   ],
   "source": [
    "plt.plot(targets,outputs)"
   ]
  },
  {
   "cell_type": "code",
   "execution_count": null,
   "metadata": {},
   "outputs": [],
   "source": []
  }
 ],
 "metadata": {
  "kernelspec": {
   "display_name": "Python 3",
   "language": "python",
   "name": "python3"
  },
  "language_info": {
   "codemirror_mode": {
    "name": "ipython",
    "version": 3
   },
   "file_extension": ".py",
   "mimetype": "text/x-python",
   "name": "python",
   "nbconvert_exporter": "python",
   "pygments_lexer": "ipython3",
   "version": "3.7.4"
  }
 },
 "nbformat": 4,
 "nbformat_minor": 2
}
